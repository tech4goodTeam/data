{
 "cells": [
  {
   "cell_type": "code",
   "execution_count": 1,
   "id": "4454d682",
   "metadata": {},
   "outputs": [],
   "source": [
    "import pandas as pd"
   ]
  },
  {
   "cell_type": "code",
   "execution_count": 2,
   "id": "9cfd8881",
   "metadata": {},
   "outputs": [],
   "source": [
    "purchase_csv = 'https://opendata-ajuntament.barcelona.cat/data/dataset/1144c2b2-43a5-48f6-b447-5f11a3a34b87/resource/e42cf2cf-a76e-4a32-9357-cf90e0ea8ead/download/locveevolucio.csv'\n",
    "rent_csv='https://opendata-ajuntament.barcelona.cat/data/dataset/fedae1fc-bd48-4676-afdc-979423786512/resource/97356d26-30b9-436a-8dbb-d0d05f0a87fd/download/loclloevolucio.csv'\n",
    "business_list='https://opendata-ajuntament.barcelona.cat/data/dataset/62fb990e-4cc3-457a-aea1-497604e15659/resource/c897c912-0f3c-4463-bdf2-a67ee97786ac/download/2019_censcomercialbcn_detall.csv'\n",
    "geojson_data= 'https://opendata-ajuntament.barcelona.cat/resources/bcn/EstadisticaUnitatsAdministratives/BarcelonaCiutat_Barris.json'"
   ]
  },
  {
   "cell_type": "code",
   "execution_count": 3,
   "id": "ddf0b5e4",
   "metadata": {},
   "outputs": [
    {
     "name": "stderr",
     "output_type": "stream",
     "text": [
      "C:\\Users\\Sbort\\AppData\\Local\\Temp\\ipykernel_21796\\2741577662.py:3: DtypeWarning: Columns (35,37) have mixed types. Specify dtype option on import or set low_memory=False.\n",
      "  business = pd.read_csv(business_list)\n"
     ]
    }
   ],
   "source": [
    "purchase = pd.read_csv(purchase_csv)\n",
    "rent = pd.read_csv(rent_csv)\n",
    "business = pd.read_csv(business_list)\n",
    "geojson = pd.read_json(geojson_data)"
   ]
  },
  {
   "cell_type": "code",
   "execution_count": 4,
   "id": "b21610a5",
   "metadata": {},
   "outputs": [],
   "source": [
    "purchase['codi_barri'] = purchase.BARRIS.apply(lambda x: x.split('.')[0])"
   ]
  },
  {
   "cell_type": "code",
   "execution_count": 5,
   "id": "34fc5544",
   "metadata": {},
   "outputs": [],
   "source": [
    "rent['codi_barri'] = rent.BARRIS.apply(lambda x: x.split('.')[0])"
   ]
  },
  {
   "cell_type": "code",
   "execution_count": 6,
   "id": "7583c2bb",
   "metadata": {},
   "outputs": [],
   "source": [
    "rent['codi_barri'] = rent['codi_barri'].astype(int)\n",
    "purchase['codi_barri'] = purchase['codi_barri'].astype(int)"
   ]
  },
  {
   "cell_type": "code",
   "execution_count": 7,
   "id": "32c92975",
   "metadata": {},
   "outputs": [],
   "source": [
    "def price(row):\n",
    "    if row['DOSZEROONZE'] != '--':\n",
    "        return row['DOSZEROONZE']\n",
    "    elif row['DOSZERODEU'] != '--':\n",
    "        return row['DOSZERODEU']\n",
    "    elif row['DOSZEROZERONOU'] !=  '--':\n",
    "        return row['DOSZEROZERONOU']\n",
    "    elif row['DOSZEROZEROVUIT'] !=  '--':\n",
    "        return row['DOSZEROZEROVUIT']\n",
    "    else:\n",
    "        return None                  "
   ]
  },
  {
   "cell_type": "code",
   "execution_count": 8,
   "id": "fb9048ad",
   "metadata": {},
   "outputs": [],
   "source": [
    "rent['p_lloguer'] = rent.apply(price, axis=1)\n",
    "purchase['p_venta'] = purchase.apply(price, axis=1)"
   ]
  },
  {
   "cell_type": "code",
   "execution_count": 10,
   "id": "893e1f24",
   "metadata": {},
   "outputs": [],
   "source": [
    "barrios = rent[['codi_barri','p_lloguer']].merge(purchase[['codi_barri','p_venta']], on='codi_barri', how='left')"
   ]
  },
  {
   "cell_type": "code",
   "execution_count": 11,
   "id": "75294c09",
   "metadata": {},
   "outputs": [],
   "source": [
    "barrios2 = business[['Nom_Barri', 'Codi_Barri','Codi_Districte']].drop_duplicates()"
   ]
  },
  {
   "cell_type": "code",
   "execution_count": 12,
   "id": "09435ffd",
   "metadata": {},
   "outputs": [],
   "source": [
    "barrios2 = barrios2.rename(columns=lambda x: x.lower())"
   ]
  },
  {
   "cell_type": "code",
   "execution_count": 13,
   "id": "7b21c908",
   "metadata": {},
   "outputs": [],
   "source": [
    "barrios = barrios.merge(barrios2, on='codi_barri', how='left')"
   ]
  },
  {
   "cell_type": "code",
   "execution_count": 14,
   "id": "7aa89f49",
   "metadata": {},
   "outputs": [],
   "source": [
    "geojson = geojson[['codi_barri', 'geometria_wgs84']]"
   ]
  },
  {
   "cell_type": "code",
   "execution_count": 15,
   "id": "d9f5939e",
   "metadata": {},
   "outputs": [],
   "source": [
    "barrios = barrios.merge(geojson, on=\"codi_barri\", how=\"left\")"
   ]
  },
  {
   "cell_type": "code",
   "execution_count": 16,
   "id": "5a0221bb",
   "metadata": {},
   "outputs": [],
   "source": [
    "barrios['p_venta'] = barrios['p_venta'].str.replace('.', '', regex=False)"
   ]
  },
  {
   "cell_type": "code",
   "execution_count": 17,
   "id": "ff2bdd51",
   "metadata": {},
   "outputs": [],
   "source": [
    "barrios['p_venta'] = barrios['p_venta'].astype(float)\n",
    "barrios['p_lloguer'] = barrios['p_lloguer'].astype(float)"
   ]
  },
  {
   "cell_type": "code",
   "execution_count": 18,
   "id": "d7cf0057",
   "metadata": {},
   "outputs": [],
   "source": [
    "barrios['p_venta_rel'] = ((barrios['p_venta'] - barrios['p_venta'].mean())/barrios['p_venta'].mean())*100"
   ]
  },
  {
   "cell_type": "code",
   "execution_count": 19,
   "id": "1467698c",
   "metadata": {},
   "outputs": [],
   "source": [
    "barrios['p_lloguer_rel'] = ((barrios['p_lloguer'] - barrios['p_lloguer'].mean())/barrios['p_lloguer'].mean())*100"
   ]
  },
  {
   "cell_type": "code",
   "execution_count": 22,
   "id": "7f70611a",
   "metadata": {},
   "outputs": [],
   "source": [
    "barrios.to_csv('../data/df_barris.csv')"
   ]
  },
  {
   "cell_type": "code",
   "execution_count": null,
   "id": "859d711e",
   "metadata": {},
   "outputs": [],
   "source": []
  }
 ],
 "metadata": {
  "kernelspec": {
   "display_name": "Python 3 (ipykernel)",
   "language": "python",
   "name": "python3"
  },
  "language_info": {
   "codemirror_mode": {
    "name": "ipython",
    "version": 3
   },
   "file_extension": ".py",
   "mimetype": "text/x-python",
   "name": "python",
   "nbconvert_exporter": "python",
   "pygments_lexer": "ipython3",
   "version": "3.11.3"
  }
 },
 "nbformat": 4,
 "nbformat_minor": 5
}
